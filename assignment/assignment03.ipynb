{
 "cells": [
  {
   "cell_type": "code",
   "execution_count": 21,
   "metadata": {
    "collapsed": false
   },
   "outputs": [
    {
     "name": "stdout",
     "output_type": "stream",
     "text": [
      "test_input_length_multiple_of_16bits (__main__.MiniAES_test.test_input_length_multiple_of_16bits) ... "
     ]
    },
    {
     "name": "stdout",
     "output_type": "stream",
     "text": [
      "ok\n"
     ]
    },
    {
     "name": "stdout",
     "output_type": "stream",
     "text": [
      "test_input_length_not_a_multiple_of_16bits (__main__.MiniAES_test.test_input_length_not_a_multiple_of_16bits) ... "
     ]
    },
    {
     "name": "stdout",
     "output_type": "stream",
     "text": [
      "ok\n"
     ]
    },
    {
     "name": "stdout",
     "output_type": "stream",
     "text": [
      "\n"
     ]
    },
    {
     "name": "stdout",
     "output_type": "stream",
     "text": [
      "----------------------------------------------------------------------\n",
      "Ran 2 tests in 0.186s\n",
      "\n",
      "OK\n"
     ]
    },
    {
     "data": {
      "text/plain": [
       "<unittest.runner.TextTestResult run=2 errors=0 failures=0>"
      ]
     },
     "execution_count": 21,
     "metadata": {
     },
     "output_type": "execute_result"
    }
   ],
   "source": [
    "from sage.crypto.block_cipher.miniaes import MiniAES\n",
    "\n",
    "# Encypt plain text by using MiniAES\n",
    "def encrypt(plain_text, key):\n",
    "    maes = MiniAES()\n",
    "    bin = BinaryStrings()\n",
    "    plain_text_encoded = bin.encoding(pad_input_string(plain_text))\n",
    "    key_encoded = bin.encoding(key)\n",
    "    cipher = maes(plain_text_encoded, key_encoded, algorithm='encrypt')\n",
    "    return cipher\n",
    "\n",
    "# Decrypt the cipher to the original plain text by using MiniAES\n",
    "def decrypt(cipher, key):\n",
    "    maes = MiniAES()\n",
    "    bin = BinaryStrings()\n",
    "    key_encoded = bin.encoding(key)\n",
    "    decrypted_text_encoded = maes(cipher, key_encoded, algorithm='decrypt')\n",
    "    decrypted_text_padded = binary_to_text(str(decrypted_text_encoded))\n",
    "    decrypted_text = unpad_input_string(decrypted_text_padded)\n",
    "    return decrypted_text\n",
    "\n",
    "# This function convert the decrypted binary string back to text\n",
    "def binary_to_text(binary_string):\n",
    "    byte_array = bytearray(int(binary_string[i:i + 8], 2) for i in range(0, len(binary_string), 8))\n",
    "    return byte_array.decode('utf-8')\n",
    "\n",
    "# This function is used to pad the input string so that its length becomes a multiple of the block size (16 bits)\n",
    "def pad_input_string(input_string, block_size=16):\n",
    "    pad_len = block_size - (len(input_string) % block_size)\n",
    "    return input_string + chr(pad_len) * pad_len\n",
    "\n",
    "# This function is used to remove the padding characters from the padded string, which were added during the padding process\n",
    "def unpad_input_string(padded_string):\n",
    "    pad_len = ord(padded_string[-1])\n",
    "    return padded_string[:-pad_len]\n",
    "\n",
    "import unittest\n",
    "\n",
    "class MiniAES_test(unittest.TestCase):\n",
    "    def __init__(self, *args, **kw_args):\n",
    "        super(MiniAES_test, self).__init__(*args, **kw_args)\n",
    "\n",
    "        self.text_length_multiple_of_16bits = 'abcdef'\n",
    "        self.text_length_not_a_multiple_of_16bits = 'abcde'\n",
    "        self.key = 'ke'\n",
    "\n",
    "    def test_input_length_multiple_of_16bits(self):\n",
    "        cipher = encrypt(self.text_length_multiple_of_16bits, self.key)\n",
    "        self.assertEqual(decrypt(cipher, self.key), self.text_length_multiple_of_16bits)\n",
    "    \n",
    "    def test_input_length_not_a_multiple_of_16bits(self):\n",
    "        cipher = encrypt(self.text_length_not_a_multiple_of_16bits, self.key)\n",
    "        self.assertEqual(decrypt(cipher, self.key), self.text_length_not_a_multiple_of_16bits)\n",
    "\n",
    "test_runner = unittest.TextTestRunner(stream=sys.stdout, verbosity=2)\n",
    "test_runner.run(unittest.defaultTestLoader.loadTestsFromTestCase(MiniAES_test))"
   ]
  },
  {
   "cell_type": "code",
   "execution_count": 0,
   "metadata": {
    "collapsed": false
   },
   "outputs": [
   ],
   "source": [
   ]
  }
 ],
 "metadata": {
  "kernelspec": {
   "argv": [
    "sage-9.8",
    "--python",
    "-m",
    "sage.repl.ipython_kernel",
    "--matplotlib=inline",
    "-f",
    "{connection_file}"
   ],
   "display_name": "SageMath 9.8",
   "env": {
   },
   "language": "sagemath",
   "metadata": {
    "cocalc": {
     "description": "Open-source mathematical software system",
     "priority": 10,
     "url": "https://www.sagemath.org/"
    }
   },
   "name": "sage-9.8",
   "resource_dir": "/ext/jupyter/kernels/sage-9.8"
  },
  "language_info": {
   "codemirror_mode": {
    "name": "ipython",
    "version": 3
   },
   "file_extension": ".py",
   "mimetype": "text/x-python",
   "name": "python",
   "nbconvert_exporter": "python",
   "pygments_lexer": "ipython3",
   "version": "3.11.1"
  }
 },
 "nbformat": 4,
 "nbformat_minor": 4
}