{
 "cells": [
  {
   "cell_type": "code",
   "execution_count": 3,
   "metadata": {},
   "outputs": [],
   "source": [
    "def xor_bytes(lhs, rhs):\n",
    "    return bytes(map(lambda x: x[0] ^^ x[1], zip(lhs, rhs)))\n",
    "\n",
    "def hmac(hash_func, key: bytes, message: bytes):\n",
    "    digest_size = hash_func().digest_size\n",
    "    \n",
    "    key_with_digest_size = key\n",
    "    if len(key) < digest_size:\n",
    "        key_with_digest_size += bytes(digest_size - len(key))\n",
    "    elif len(key) > digest_size:\n",
    "        key_with_digest_size = hash_func(key).digest()\n",
    "    \n",
    "    ipad = bytes([0x36 for _ in range(digest_size)])\n",
    "    opad = bytes([0x5c for _ in range(digest_size)])\n",
    "    \n",
    "    key_with_ipad = xor_bytes(key_with_digest_size, ipad)\n",
    "    key_with_opad = xor_bytes(key_with_digest_size, opad)\n",
    "    \n",
    "    return hash_func(key_with_opad + hash_func(key_with_ipad + message).digest()).digest()"
   ]
  },
  {
   "cell_type": "code",
   "execution_count": 7,
   "metadata": {},
   "outputs": [],
   "source": [
    "def prf(hash_func, secret: bytes, label: bytes, init_seed: bytes, N):\n",
    "    seed = label + init_seed\n",
    "    \n",
    "    random_bytes = b''\n",
    "    \n",
    "    a = seed\n",
    "    while len(random_bytes) < N:\n",
    "        a = hmac(hash_func, secret, a)\n",
    "        random_bytes += hmac(hash_func, secret, a + seed)\n",
    "    \n",
    "    return random_bytes[:N]"
   ]
  },
  {
   "cell_type": "code",
   "execution_count": 8,
   "metadata": {},
   "outputs": [
    {
     "data": {
      "text/plain": [
       "b'\\xb6~\\xe1\\xd0\\x96\\x9f\\xa5\\xf9\\xf6\\xe6/\\x07UN\\xa0\\xcb^\\x04.\\xa4\\xe4f\\xe2\\xb0\\x8b\"=\\x98rz\\xd2\\xce\\xb0\\x82\\x99%-U\\xf3X'"
      ]
     },
     "execution_count": 8,
     "metadata": {},
     "output_type": "execute_result"
    }
   ],
   "source": [
    "prf(hashlib.sha256, b'secret', b'label', b'seed', 40)"
   ]
  },
  {
   "cell_type": "code",
   "execution_count": null,
   "metadata": {},
   "outputs": [],
   "source": []
  }
 ],
 "metadata": {
  "kernelspec": {
   "display_name": "SageMath 9.0",
   "language": "sage",
   "name": "sagemath"
  },
  "language_info": {
   "codemirror_mode": {
    "name": "ipython",
    "version": 3
   },
   "file_extension": ".py",
   "mimetype": "text/x-python",
   "name": "python",
   "nbconvert_exporter": "python",
   "pygments_lexer": "ipython3",
   "version": "3.8.10"
  }
 },
 "nbformat": 4,
 "nbformat_minor": 4
}
