{
 "cells": [
  {
   "cell_type": "code",
   "execution_count": 1,
   "metadata": {},
   "outputs": [
    {
     "data": {
      "text/plain": [
       "349570189155225306285765652931514601074242291529259347718384351465646425050916539567325356887010893696587232755842034837743093193358683327106211757312392710121872211548394203560103965369320960987142669352547001621667237641897654227471598110611511485831145157729177564931282497151838967228324604477938722430027"
      ]
     },
     "execution_count": 1,
     "metadata": {},
     "output_type": "execute_result"
    }
   ],
   "source": [
    "p = random_prime(2**1025, lbound=2**1024, proof=True); p"
   ]
  },
  {
   "cell_type": "code",
   "execution_count": 2,
   "metadata": {},
   "outputs": [
    {
     "data": {
      "text/plain": [
       "264954191240201372053634917847381988484210388214528462303356943272659205273892849755113031966731078087320720455583290270359081952523152226122183415854292391327709954758630109393835878767630093539358036409947885732839659365966103086437211803474368742468537485590860410480375428995082967331806411847517070551997"
      ]
     },
     "execution_count": 2,
     "metadata": {},
     "output_type": "execute_result"
    }
   ],
   "source": [
    "q = random_prime(2**1025, lbound=2**1024, proof=True); q"
   ]
  },
  {
   "cell_type": "code",
   "execution_count": 3,
   "metadata": {},
   "outputs": [],
   "source": [
    "n = p*q"
   ]
  },
  {
   "cell_type": "code",
   "execution_count": 4,
   "metadata": {},
   "outputs": [
    {
     "data": {
      "text/plain": [
       "38007913286172096219239516802974564074111183163873309572544841211454330092423225563271033766884543053572426790117436220700672219212306348153470548318197665388948807311211285063511205232764886619371736070427476040648219721347221979884030081729743618328772732359506556385355458133777842379175016906164994892655939899236385840274124406214434734879453717693525875890936124667116354934143717720472945057064931426004201268042713707394379601792528223336800010143018453673674734265019941823115852698438910257427877142801513820443896376962985988923726376842483017852401577997878985806737231234036625081913296343649060374639825"
      ]
     },
     "execution_count": 4,
     "metadata": {},
     "output_type": "execute_result"
    }
   ],
   "source": [
    "phi_n = (p-1)*(q-1)\n",
    "e = 65537\n",
    "_, d, _ = xgcd(e, phi_n)\n",
    "d"
   ]
  },
  {
   "cell_type": "code",
   "execution_count": 5,
   "metadata": {},
   "outputs": [
    {
     "data": {
      "text/plain": [
       "25746963593030976679615572810777032338483368939568429224630835374264915856824418061038482246843511963499952715784736761185627133113432929048142404882481490886118342477399854590913015550719916141421186911712657716265576765622945309821867632625681267339107306112453960259908664465589849723172196604805781776288965751126529118045611635079915920320412697345713680383532008580568222407282184311006471200756625265395134187538425563911986594196818009203256574360361309470631328425431276414764012197706007618410395312017527392488344952359433205332261827809611295120285903084085216782165598334789199500046024287426511448000402"
      ]
     },
     "execution_count": 5,
     "metadata": {},
     "output_type": "execute_result"
    }
   ],
   "source": [
    "m = ZZ.random_element(n); m"
   ]
  },
  {
   "cell_type": "code",
   "execution_count": 6,
   "metadata": {},
   "outputs": [],
   "source": [
    "c = power_mod(m, e, n)"
   ]
  },
  {
   "cell_type": "code",
   "execution_count": 7,
   "metadata": {},
   "outputs": [],
   "source": [
    "d_p = d % (p-1)\n",
    "d_q = d % (q-1)"
   ]
  },
  {
   "cell_type": "code",
   "execution_count": 8,
   "metadata": {},
   "outputs": [],
   "source": [
    "_, q_inv, _ = xgcd(q, p)"
   ]
  },
  {
   "cell_type": "code",
   "execution_count": 9,
   "metadata": {},
   "outputs": [
    {
     "data": {
      "text/plain": [
       "True"
      ]
     },
     "execution_count": 9,
     "metadata": {},
     "output_type": "execute_result"
    }
   ],
   "source": [
    "q * q_inv % p == 1"
   ]
  },
  {
   "cell_type": "code",
   "execution_count": 10,
   "metadata": {},
   "outputs": [],
   "source": [
    "m_1 = power_mod(c, d_p, p)\n",
    "m_2 = power_mod(c, d_q, q)"
   ]
  },
  {
   "cell_type": "code",
   "execution_count": 11,
   "metadata": {},
   "outputs": [],
   "source": [
    "h = q_inv * (m_1 - m_2) % p"
   ]
  },
  {
   "cell_type": "code",
   "execution_count": 12,
   "metadata": {},
   "outputs": [
    {
     "data": {
      "text/plain": [
       "True"
      ]
     },
     "execution_count": 12,
     "metadata": {},
     "output_type": "execute_result"
    }
   ],
   "source": [
    "m == m_2 + h * q"
   ]
  },
  {
   "cell_type": "code",
   "execution_count": null,
   "metadata": {},
   "outputs": [],
   "source": []
  }
 ],
 "metadata": {
  "kernelspec": {
   "display_name": "SageMath 9.0",
   "language": "sage",
   "name": "sagemath"
  },
  "language_info": {
   "codemirror_mode": {
    "name": "ipython",
    "version": 3
   },
   "file_extension": ".py",
   "mimetype": "text/x-python",
   "name": "python",
   "nbconvert_exporter": "python",
   "pygments_lexer": "ipython3",
   "version": "3.8.10"
  }
 },
 "nbformat": 4,
 "nbformat_minor": 4
}
